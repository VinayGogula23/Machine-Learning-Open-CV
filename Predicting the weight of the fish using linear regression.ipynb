{
 "cells": [
  {
   "cell_type": "markdown",
   "id": "927d2b41",
   "metadata": {},
   "source": [
    "# Predicting the Fish Weight"
   ]
  },
  {
   "cell_type": "code",
   "execution_count": 1,
   "id": "bb072fda",
   "metadata": {},
   "outputs": [],
   "source": [
    "import pandas as pd  # importing python pandas libraries "
   ]
  },
  {
   "cell_type": "code",
   "execution_count": null,
   "id": "7760f575",
   "metadata": {},
   "outputs": [],
   "source": [
    "# Importing the Fish csv file "
   ]
  },
  {
   "cell_type": "code",
   "execution_count": 2,
   "id": "a19e6527",
   "metadata": {},
   "outputs": [
    {
     "data": {
      "text/html": [
       "<div>\n",
       "<style scoped>\n",
       "    .dataframe tbody tr th:only-of-type {\n",
       "        vertical-align: middle;\n",
       "    }\n",
       "\n",
       "    .dataframe tbody tr th {\n",
       "        vertical-align: top;\n",
       "    }\n",
       "\n",
       "    .dataframe thead th {\n",
       "        text-align: right;\n",
       "    }\n",
       "</style>\n",
       "<table border=\"1\" class=\"dataframe\">\n",
       "  <thead>\n",
       "    <tr style=\"text-align: right;\">\n",
       "      <th></th>\n",
       "      <th>Species</th>\n",
       "      <th>Weight</th>\n",
       "      <th>Length1</th>\n",
       "      <th>Length2</th>\n",
       "      <th>Length3</th>\n",
       "      <th>Height</th>\n",
       "      <th>Width</th>\n",
       "    </tr>\n",
       "  </thead>\n",
       "  <tbody>\n",
       "    <tr>\n",
       "      <th>0</th>\n",
       "      <td>Bream</td>\n",
       "      <td>242.0</td>\n",
       "      <td>23.2</td>\n",
       "      <td>25.4</td>\n",
       "      <td>30.0</td>\n",
       "      <td>11.5200</td>\n",
       "      <td>4.0200</td>\n",
       "    </tr>\n",
       "    <tr>\n",
       "      <th>1</th>\n",
       "      <td>Bream</td>\n",
       "      <td>290.0</td>\n",
       "      <td>24.0</td>\n",
       "      <td>26.3</td>\n",
       "      <td>31.2</td>\n",
       "      <td>12.4800</td>\n",
       "      <td>4.3056</td>\n",
       "    </tr>\n",
       "    <tr>\n",
       "      <th>2</th>\n",
       "      <td>Bream</td>\n",
       "      <td>340.0</td>\n",
       "      <td>23.9</td>\n",
       "      <td>26.5</td>\n",
       "      <td>31.1</td>\n",
       "      <td>12.3778</td>\n",
       "      <td>4.6961</td>\n",
       "    </tr>\n",
       "    <tr>\n",
       "      <th>3</th>\n",
       "      <td>Bream</td>\n",
       "      <td>363.0</td>\n",
       "      <td>26.3</td>\n",
       "      <td>29.0</td>\n",
       "      <td>33.5</td>\n",
       "      <td>12.7300</td>\n",
       "      <td>4.4555</td>\n",
       "    </tr>\n",
       "    <tr>\n",
       "      <th>4</th>\n",
       "      <td>Bream</td>\n",
       "      <td>430.0</td>\n",
       "      <td>26.5</td>\n",
       "      <td>29.0</td>\n",
       "      <td>34.0</td>\n",
       "      <td>12.4440</td>\n",
       "      <td>5.1340</td>\n",
       "    </tr>\n",
       "  </tbody>\n",
       "</table>\n",
       "</div>"
      ],
      "text/plain": [
       "  Species  Weight  Length1  Length2  Length3   Height   Width\n",
       "0   Bream   242.0     23.2     25.4     30.0  11.5200  4.0200\n",
       "1   Bream   290.0     24.0     26.3     31.2  12.4800  4.3056\n",
       "2   Bream   340.0     23.9     26.5     31.1  12.3778  4.6961\n",
       "3   Bream   363.0     26.3     29.0     33.5  12.7300  4.4555\n",
       "4   Bream   430.0     26.5     29.0     34.0  12.4440  5.1340"
      ]
     },
     "execution_count": 2,
     "metadata": {},
     "output_type": "execute_result"
    }
   ],
   "source": [
    "data=pd.read_csv(r\"C:\\Users\\Gogula Vinay\\Desktop\\Innomatics labs\\Data Science\\Machine Learning\\Fish.csv\")\n",
    "data.head()"
   ]
  },
  {
   "cell_type": "code",
   "execution_count": 31,
   "id": "08569faf",
   "metadata": {},
   "outputs": [
    {
     "name": "stdout",
     "output_type": "stream",
     "text": [
      "<class 'pandas.core.frame.DataFrame'>\n",
      "RangeIndex: 159 entries, 0 to 158\n",
      "Data columns (total 7 columns):\n",
      " #   Column   Non-Null Count  Dtype  \n",
      "---  ------   --------------  -----  \n",
      " 0   Species  159 non-null    int32  \n",
      " 1   Weight   159 non-null    float64\n",
      " 2   Length1  159 non-null    float64\n",
      " 3   Length2  159 non-null    float64\n",
      " 4   Length3  159 non-null    float64\n",
      " 5   Height   159 non-null    float64\n",
      " 6   Width    159 non-null    float64\n",
      "dtypes: float64(6), int32(1)\n",
      "memory usage: 8.2 KB\n"
     ]
    }
   ],
   "source": [
    "data.info()"
   ]
  },
  {
   "cell_type": "code",
   "execution_count": null,
   "id": "422868a1",
   "metadata": {},
   "outputs": [],
   "source": [
    "# there are no null values in our dataset "
   ]
  },
  {
   "cell_type": "code",
   "execution_count": 3,
   "id": "194addaa",
   "metadata": {},
   "outputs": [
    {
     "data": {
      "text/plain": [
       "Perch        56\n",
       "Bream        35\n",
       "Roach        20\n",
       "Pike         17\n",
       "Smelt        14\n",
       "Parkki       11\n",
       "Whitefish     6\n",
       "Name: Species, dtype: int64"
      ]
     },
     "execution_count": 3,
     "metadata": {},
     "output_type": "execute_result"
    }
   ],
   "source": [
    "data['Species'].value_counts() # Imbalance dataset"
   ]
  },
  {
   "cell_type": "code",
   "execution_count": null,
   "id": "d0acf53a",
   "metadata": {},
   "outputs": [],
   "source": [
    "# Convering categorical data into vectors "
   ]
  },
  {
   "cell_type": "code",
   "execution_count": 4,
   "id": "db6b6925",
   "metadata": {},
   "outputs": [],
   "source": [
    "from sklearn.preprocessing import LabelEncoder\n",
    "l=LabelEncoder()\n",
    "data['Species']=l.fit_transform(data['Species'])"
   ]
  },
  {
   "cell_type": "code",
   "execution_count": 5,
   "id": "591decf4",
   "metadata": {},
   "outputs": [
    {
     "data": {
      "text/html": [
       "<div>\n",
       "<style scoped>\n",
       "    .dataframe tbody tr th:only-of-type {\n",
       "        vertical-align: middle;\n",
       "    }\n",
       "\n",
       "    .dataframe tbody tr th {\n",
       "        vertical-align: top;\n",
       "    }\n",
       "\n",
       "    .dataframe thead th {\n",
       "        text-align: right;\n",
       "    }\n",
       "</style>\n",
       "<table border=\"1\" class=\"dataframe\">\n",
       "  <thead>\n",
       "    <tr style=\"text-align: right;\">\n",
       "      <th></th>\n",
       "      <th>Species</th>\n",
       "    </tr>\n",
       "  </thead>\n",
       "  <tbody>\n",
       "    <tr>\n",
       "      <th>0</th>\n",
       "      <td>0</td>\n",
       "    </tr>\n",
       "    <tr>\n",
       "      <th>1</th>\n",
       "      <td>0</td>\n",
       "    </tr>\n",
       "    <tr>\n",
       "      <th>2</th>\n",
       "      <td>0</td>\n",
       "    </tr>\n",
       "    <tr>\n",
       "      <th>3</th>\n",
       "      <td>0</td>\n",
       "    </tr>\n",
       "    <tr>\n",
       "      <th>4</th>\n",
       "      <td>0</td>\n",
       "    </tr>\n",
       "    <tr>\n",
       "      <th>...</th>\n",
       "      <td>...</td>\n",
       "    </tr>\n",
       "    <tr>\n",
       "      <th>154</th>\n",
       "      <td>5</td>\n",
       "    </tr>\n",
       "    <tr>\n",
       "      <th>155</th>\n",
       "      <td>5</td>\n",
       "    </tr>\n",
       "    <tr>\n",
       "      <th>156</th>\n",
       "      <td>5</td>\n",
       "    </tr>\n",
       "    <tr>\n",
       "      <th>157</th>\n",
       "      <td>5</td>\n",
       "    </tr>\n",
       "    <tr>\n",
       "      <th>158</th>\n",
       "      <td>5</td>\n",
       "    </tr>\n",
       "  </tbody>\n",
       "</table>\n",
       "<p>159 rows × 1 columns</p>\n",
       "</div>"
      ],
      "text/plain": [
       "     Species\n",
       "0          0\n",
       "1          0\n",
       "2          0\n",
       "3          0\n",
       "4          0\n",
       "..       ...\n",
       "154        5\n",
       "155        5\n",
       "156        5\n",
       "157        5\n",
       "158        5\n",
       "\n",
       "[159 rows x 1 columns]"
      ]
     },
     "execution_count": 5,
     "metadata": {},
     "output_type": "execute_result"
    }
   ],
   "source": [
    "Species=pd.DataFrame(data[['Species']])\n",
    "Species"
   ]
  },
  {
   "cell_type": "code",
   "execution_count": 6,
   "id": "ea8ac4e6",
   "metadata": {},
   "outputs": [
    {
     "data": {
      "text/html": [
       "<div>\n",
       "<style scoped>\n",
       "    .dataframe tbody tr th:only-of-type {\n",
       "        vertical-align: middle;\n",
       "    }\n",
       "\n",
       "    .dataframe tbody tr th {\n",
       "        vertical-align: top;\n",
       "    }\n",
       "\n",
       "    .dataframe thead th {\n",
       "        text-align: right;\n",
       "    }\n",
       "</style>\n",
       "<table border=\"1\" class=\"dataframe\">\n",
       "  <thead>\n",
       "    <tr style=\"text-align: right;\">\n",
       "      <th></th>\n",
       "      <th>Species</th>\n",
       "      <th>Weight</th>\n",
       "      <th>Length1</th>\n",
       "      <th>Length2</th>\n",
       "      <th>Length3</th>\n",
       "      <th>Height</th>\n",
       "      <th>Width</th>\n",
       "    </tr>\n",
       "  </thead>\n",
       "  <tbody>\n",
       "    <tr>\n",
       "      <th>0</th>\n",
       "      <td>0</td>\n",
       "      <td>242.0</td>\n",
       "      <td>23.2</td>\n",
       "      <td>25.4</td>\n",
       "      <td>30.0</td>\n",
       "      <td>11.5200</td>\n",
       "      <td>4.0200</td>\n",
       "    </tr>\n",
       "    <tr>\n",
       "      <th>1</th>\n",
       "      <td>0</td>\n",
       "      <td>290.0</td>\n",
       "      <td>24.0</td>\n",
       "      <td>26.3</td>\n",
       "      <td>31.2</td>\n",
       "      <td>12.4800</td>\n",
       "      <td>4.3056</td>\n",
       "    </tr>\n",
       "    <tr>\n",
       "      <th>2</th>\n",
       "      <td>0</td>\n",
       "      <td>340.0</td>\n",
       "      <td>23.9</td>\n",
       "      <td>26.5</td>\n",
       "      <td>31.1</td>\n",
       "      <td>12.3778</td>\n",
       "      <td>4.6961</td>\n",
       "    </tr>\n",
       "    <tr>\n",
       "      <th>3</th>\n",
       "      <td>0</td>\n",
       "      <td>363.0</td>\n",
       "      <td>26.3</td>\n",
       "      <td>29.0</td>\n",
       "      <td>33.5</td>\n",
       "      <td>12.7300</td>\n",
       "      <td>4.4555</td>\n",
       "    </tr>\n",
       "    <tr>\n",
       "      <th>4</th>\n",
       "      <td>0</td>\n",
       "      <td>430.0</td>\n",
       "      <td>26.5</td>\n",
       "      <td>29.0</td>\n",
       "      <td>34.0</td>\n",
       "      <td>12.4440</td>\n",
       "      <td>5.1340</td>\n",
       "    </tr>\n",
       "    <tr>\n",
       "      <th>...</th>\n",
       "      <td>...</td>\n",
       "      <td>...</td>\n",
       "      <td>...</td>\n",
       "      <td>...</td>\n",
       "      <td>...</td>\n",
       "      <td>...</td>\n",
       "      <td>...</td>\n",
       "    </tr>\n",
       "    <tr>\n",
       "      <th>154</th>\n",
       "      <td>5</td>\n",
       "      <td>12.2</td>\n",
       "      <td>11.5</td>\n",
       "      <td>12.2</td>\n",
       "      <td>13.4</td>\n",
       "      <td>2.0904</td>\n",
       "      <td>1.3936</td>\n",
       "    </tr>\n",
       "    <tr>\n",
       "      <th>155</th>\n",
       "      <td>5</td>\n",
       "      <td>13.4</td>\n",
       "      <td>11.7</td>\n",
       "      <td>12.4</td>\n",
       "      <td>13.5</td>\n",
       "      <td>2.4300</td>\n",
       "      <td>1.2690</td>\n",
       "    </tr>\n",
       "    <tr>\n",
       "      <th>156</th>\n",
       "      <td>5</td>\n",
       "      <td>12.2</td>\n",
       "      <td>12.1</td>\n",
       "      <td>13.0</td>\n",
       "      <td>13.8</td>\n",
       "      <td>2.2770</td>\n",
       "      <td>1.2558</td>\n",
       "    </tr>\n",
       "    <tr>\n",
       "      <th>157</th>\n",
       "      <td>5</td>\n",
       "      <td>19.7</td>\n",
       "      <td>13.2</td>\n",
       "      <td>14.3</td>\n",
       "      <td>15.2</td>\n",
       "      <td>2.8728</td>\n",
       "      <td>2.0672</td>\n",
       "    </tr>\n",
       "    <tr>\n",
       "      <th>158</th>\n",
       "      <td>5</td>\n",
       "      <td>19.9</td>\n",
       "      <td>13.8</td>\n",
       "      <td>15.0</td>\n",
       "      <td>16.2</td>\n",
       "      <td>2.9322</td>\n",
       "      <td>1.8792</td>\n",
       "    </tr>\n",
       "  </tbody>\n",
       "</table>\n",
       "<p>159 rows × 7 columns</p>\n",
       "</div>"
      ],
      "text/plain": [
       "     Species  Weight  Length1  Length2  Length3   Height   Width\n",
       "0          0   242.0     23.2     25.4     30.0  11.5200  4.0200\n",
       "1          0   290.0     24.0     26.3     31.2  12.4800  4.3056\n",
       "2          0   340.0     23.9     26.5     31.1  12.3778  4.6961\n",
       "3          0   363.0     26.3     29.0     33.5  12.7300  4.4555\n",
       "4          0   430.0     26.5     29.0     34.0  12.4440  5.1340\n",
       "..       ...     ...      ...      ...      ...      ...     ...\n",
       "154        5    12.2     11.5     12.2     13.4   2.0904  1.3936\n",
       "155        5    13.4     11.7     12.4     13.5   2.4300  1.2690\n",
       "156        5    12.2     12.1     13.0     13.8   2.2770  1.2558\n",
       "157        5    19.7     13.2     14.3     15.2   2.8728  2.0672\n",
       "158        5    19.9     13.8     15.0     16.2   2.9322  1.8792\n",
       "\n",
       "[159 rows x 7 columns]"
      ]
     },
     "execution_count": 6,
     "metadata": {},
     "output_type": "execute_result"
    }
   ],
   "source": [
    "data"
   ]
  },
  {
   "cell_type": "code",
   "execution_count": null,
   "id": "226184ef",
   "metadata": {},
   "outputs": [],
   "source": [
    "# Spliting the data into dependent and independent features."
   ]
  },
  {
   "cell_type": "code",
   "execution_count": 7,
   "id": "22a94f4c",
   "metadata": {},
   "outputs": [],
   "source": [
    "cl=data[['Weight']]\n",
    "fv=data[['Species','Length1','Length2','Length3','Height','Width']]"
   ]
  },
  {
   "cell_type": "code",
   "execution_count": 8,
   "id": "a33173ac",
   "metadata": {},
   "outputs": [],
   "source": [
    "from sklearn.linear_model import LinearRegression\n",
    "from sklearn.model_selection import train_test_split\n",
    "x_train,x_test,y_train,y_test=train_test_split(fv,cl,train_size=0.8)"
   ]
  },
  {
   "cell_type": "code",
   "execution_count": null,
   "id": "35e263fb",
   "metadata": {},
   "outputs": [],
   "source": [
    "# Since the data is haveing significant difference in their scales,\n",
    "# are needed to be modified in such a way that all those values fall into the same scale."
   ]
  },
  {
   "cell_type": "code",
   "execution_count": 9,
   "id": "6f2b7dff",
   "metadata": {},
   "outputs": [],
   "source": [
    "from sklearn.preprocessing import StandardScaler\n",
    "std = StandardScaler()\n",
    "transfromed_train = std.fit_transform(x_train)\n",
    "transfromed_test = std.transform(x_test)"
   ]
  },
  {
   "cell_type": "code",
   "execution_count": 10,
   "id": "4eb3756b",
   "metadata": {},
   "outputs": [],
   "source": [
    "lr=LinearRegression()"
   ]
  },
  {
   "cell_type": "code",
   "execution_count": 11,
   "id": "39095230",
   "metadata": {},
   "outputs": [],
   "source": [
    "model=lr.fit(transfromed_train,y_train)"
   ]
  },
  {
   "cell_type": "code",
   "execution_count": 12,
   "id": "be3c1498",
   "metadata": {},
   "outputs": [],
   "source": [
    "# y=wx+wo"
   ]
  },
  {
   "cell_type": "code",
   "execution_count": 13,
   "id": "a15331c4",
   "metadata": {},
   "outputs": [
    {
     "data": {
      "text/plain": [
       "{'copy_X': True,\n",
       " 'fit_intercept': True,\n",
       " 'n_jobs': None,\n",
       " 'normalize': 'deprecated',\n",
       " 'positive': False}"
      ]
     },
     "execution_count": 13,
     "metadata": {},
     "output_type": "execute_result"
    }
   ],
   "source": [
    "lr.get_params()"
   ]
  },
  {
   "cell_type": "code",
   "execution_count": 14,
   "id": "68f66e04",
   "metadata": {},
   "outputs": [],
   "source": [
    "predi=model.predict(transfromed_test)"
   ]
  },
  {
   "cell_type": "code",
   "execution_count": 15,
   "id": "cafffbf4",
   "metadata": {},
   "outputs": [],
   "source": [
    "from sklearn.metrics import mean_squared_error,mean_absolute_error,r2_score"
   ]
  },
  {
   "cell_type": "code",
   "execution_count": 16,
   "id": "6add3f87",
   "metadata": {},
   "outputs": [
    {
     "data": {
      "text/plain": [
       "12897.033684503422"
      ]
     },
     "execution_count": 16,
     "metadata": {},
     "output_type": "execute_result"
    }
   ],
   "source": [
    "mean_squared_error(y_test,predi)"
   ]
  },
  {
   "cell_type": "code",
   "execution_count": 17,
   "id": "d7328ec3",
   "metadata": {},
   "outputs": [
    {
     "data": {
      "text/plain": [
       "76.24790046243203"
      ]
     },
     "execution_count": 17,
     "metadata": {},
     "output_type": "execute_result"
    }
   ],
   "source": [
    "mean_absolute_error(y_test,predi)"
   ]
  },
  {
   "cell_type": "code",
   "execution_count": 18,
   "id": "a723d194",
   "metadata": {},
   "outputs": [
    {
     "data": {
      "text/plain": [
       "0.9098749775155442"
      ]
     },
     "execution_count": 18,
     "metadata": {},
     "output_type": "execute_result"
    }
   ],
   "source": [
    "r2_score(y_test,predi)"
   ]
  },
  {
   "cell_type": "code",
   "execution_count": 19,
   "id": "0601567f",
   "metadata": {},
   "outputs": [
    {
     "data": {
      "text/plain": [
       "array([[  49.14326023,  409.1144155 ,  422.39166205, -623.58984053,\n",
       "         203.72332454,  -12.45804551]])"
      ]
     },
     "execution_count": 19,
     "metadata": {},
     "output_type": "execute_result"
    }
   ],
   "source": [
    "model.coef_"
   ]
  },
  {
   "cell_type": "code",
   "execution_count": 20,
   "id": "c416229a",
   "metadata": {},
   "outputs": [
    {
     "data": {
      "text/plain": [
       "array([383.97480315])"
      ]
     },
     "execution_count": 20,
     "metadata": {},
     "output_type": "execute_result"
    }
   ],
   "source": [
    "model.intercept_"
   ]
  },
  {
   "cell_type": "code",
   "execution_count": 26,
   "id": "96b4d8d2",
   "metadata": {},
   "outputs": [],
   "source": [
    "import warnings \n",
    "warnings.filterwarnings('ignore')"
   ]
  },
  {
   "cell_type": "code",
   "execution_count": 27,
   "id": "61286f66",
   "metadata": {},
   "outputs": [
    {
     "data": {
      "text/plain": [
       "159"
      ]
     },
     "execution_count": 27,
     "metadata": {},
     "output_type": "execute_result"
    }
   ],
   "source": [
    "len(model.predict(fv))"
   ]
  },
  {
   "cell_type": "code",
   "execution_count": 28,
   "id": "e64516b3",
   "metadata": {},
   "outputs": [
    {
     "data": {
      "text/plain": [
       "array([ 4193.29359855,  4344.44619191,  4424.68667628,  5040.67357198,\n",
       "        4743.98388012,  4964.44641117,  5202.35909009,  5044.38440224,\n",
       "        5252.05963671,  5273.7132605 ,  5365.09017692,  5513.55670459,\n",
       "        5644.52467755,  5480.66726281,  5713.07175935,  5806.49452688,\n",
       "        5838.05132779,  5730.23735187,  6226.01269464,  5961.01148692,\n",
       "        5931.41704773,  6338.12688636,  6183.63088665,  5934.71318629,\n",
       "        6201.98492355,  5930.19945834,  6199.00753951,  6381.13753975,\n",
       "        6431.27561198,  6932.59460028,  7060.71942701,  7132.85192969,\n",
       "        7366.34742233,  8092.54587803,  7762.40718247,  2528.31734659,\n",
       "        3403.82460968,  3560.60536347,  3650.77376824,  4016.03139259,\n",
       "        4072.29733215,  3989.65499805,  3813.15928807,  3952.16897542,\n",
       "        4414.05831075,  4079.65695199,  4378.98172676,  4383.41709802,\n",
       "        4243.97513202,  4178.75138612,  4291.45660002,  4876.80596856,\n",
       "        4925.043554  ,  4817.16570519,  6079.19726917,  5073.45551517,\n",
       "        5067.16845611,  5502.52260723,  6337.73585589,  7461.02553696,\n",
       "        8143.81968586,  3242.09955785,  3291.16038275,  3706.24821897,\n",
       "        4008.9313718 ,  4210.89304982,  4180.78153238,  4354.21250089,\n",
       "        4530.68954905,  4794.77348884,  5149.28371807,  5413.12126186,\n",
       "        2023.84153773,  2910.01639599,  3235.21776608,  3638.77162719,\n",
       "        3616.59778887,  3762.58387947,  4176.75152759,  4058.1004524 ,\n",
       "        4081.52217214,  4281.37850865,  4210.2953823 ,  4259.21649659,\n",
       "        4208.89385218,  4413.80655128,  4505.10366903,  4407.88988615,\n",
       "        4503.63984868,  4455.76486741,  4378.09711412,  4554.61889625,\n",
       "        4745.30392801,  4615.92930252,  4528.67847928,  4846.63694365,\n",
       "        5158.01032263,  4969.72159006,  5100.88108582,  5192.54079495,\n",
       "        5356.57001931,  5851.64787019,  6057.7970578 ,  5873.91197661,\n",
       "        5850.3615603 ,  5894.58209281,  6112.57168306,  6327.55973847,\n",
       "        6313.98351555,  7581.0153607 ,  7395.31829329,  7545.62280345,\n",
       "        7620.64480455,  7792.10432116,  7785.05798666,  7833.41734027,\n",
       "        8247.02496905,  8265.59244008,  8615.8250254 ,  8438.00167747,\n",
       "        8312.25817446,  8504.24275812,  8239.36677499,  8888.19890539,\n",
       "        9081.92573481,  9133.9461128 ,  9083.86083728,  9272.44139541,\n",
       "        5839.4393751 ,  5400.96353131,  5652.63041881,  6935.93448717,\n",
       "        7278.589741  ,  7207.88780565,  7903.54499762,  7809.15036175,\n",
       "        8061.60443172,  8146.44222946,  8793.08001694,  8704.35102113,\n",
       "        9511.07361614, 10321.00414573, 10754.76346467, 10754.76346467,\n",
       "       11154.14772054,  2180.30624701,  2309.59662383,  2343.26474306,\n",
       "        2477.89553953,  2413.97295645,  2350.91498265,  2502.90813002,\n",
       "        2504.37693358,  2565.6903677 ,  2540.0830018 ,  2714.76194674,\n",
       "        2913.76053556,  3151.13967516,  3083.13592539])"
      ]
     },
     "execution_count": 28,
     "metadata": {},
     "output_type": "execute_result"
    }
   ],
   "source": [
    "model.predict(fv).reshape(len(model.predict(fv)))"
   ]
  },
  {
   "cell_type": "code",
   "execution_count": null,
   "id": "aa6fa390",
   "metadata": {},
   "outputs": [],
   "source": [
    "# Saving the model"
   ]
  },
  {
   "cell_type": "code",
   "execution_count": 29,
   "id": "1aaea4a8",
   "metadata": {},
   "outputs": [],
   "source": [
    "import joblib"
   ]
  },
  {
   "cell_type": "code",
   "execution_count": 30,
   "id": "9665064a",
   "metadata": {},
   "outputs": [
    {
     "data": {
      "text/plain": [
       "['C:\\\\Users\\\\Gogula Vinay\\\\Desktop\\\\Innomatics labs\\\\Data Science\\\\Machine Learning\\\\linear_regression_fish-scaling.joblib']"
      ]
     },
     "execution_count": 30,
     "metadata": {},
     "output_type": "execute_result"
    }
   ],
   "source": [
    "joblib.dump(model,r'C:\\Users\\Gogula Vinay\\Desktop\\Innomatics labs\\Data Science\\Machine Learning\\linear_regression_fish-scaling.joblib')"
   ]
  },
  {
   "cell_type": "code",
   "execution_count": null,
   "id": "bf306be7",
   "metadata": {},
   "outputs": [],
   "source": []
  },
  {
   "cell_type": "code",
   "execution_count": null,
   "id": "4cc3399c",
   "metadata": {},
   "outputs": [],
   "source": []
  },
  {
   "cell_type": "code",
   "execution_count": null,
   "id": "316e677a",
   "metadata": {},
   "outputs": [],
   "source": []
  }
 ],
 "metadata": {
  "kernelspec": {
   "display_name": "Python 3 (ipykernel)",
   "language": "python",
   "name": "python3"
  },
  "language_info": {
   "codemirror_mode": {
    "name": "ipython",
    "version": 3
   },
   "file_extension": ".py",
   "mimetype": "text/x-python",
   "name": "python",
   "nbconvert_exporter": "python",
   "pygments_lexer": "ipython3",
   "version": "3.9.12"
  }
 },
 "nbformat": 4,
 "nbformat_minor": 5
}
